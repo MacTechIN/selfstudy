{
 "cells": [
  {
   "cell_type": "code",
   "execution_count": 42,
   "id": "f9a05c75",
   "metadata": {},
   "outputs": [],
   "source": [
    "import pandas as pd\n",
    "import requests \n",
    "from bs4 import BeautifulSoup \n",
    "import xmltodict \n",
    "import json\n",
    "import xml.etree.ElementTree as et "
   ]
  },
  {
   "cell_type": "code",
   "execution_count": 43,
   "id": "d71f7a75",
   "metadata": {},
   "outputs": [],
   "source": [
    "# http://openapi.gbis.go.kr/ws/rest/busrouteservice?serviceKey=1234567890&keyword=11\n",
    "# return value :  String routeName:노선 번호\n",
    "\n",
    "#Rest 접속 xml값받아오기 \n",
    "\n",
    "bus_no = 112"
   ]
  },
  {
   "cell_type": "code",
   "execution_count": 53,
   "id": "ff7c9e0b",
   "metadata": {},
   "outputs": [],
   "source": [
    "service_url = \"http://apis.data.go.kr/6410000/busrouteservice\"\n",
    "service_name = \"/getBusRouteList?\"\n",
    "encoding_key = \"%2BltohkyQC0eQUMVVaH5qwUi4FxaROssy0kpwzEdkqsFqedo%2FKlvT05Ap0svSUr2xQsOHd9%2FK2pXWpnH5N%2BmTcg%3D%3D\" \n",
    "serviceKey = \"serviceKey=\"+encoding_key \n",
    "keyword = f\"&keyword={bus_no}\"\n",
    "\n",
    "#station_search_url = \"http://apis.data.go.kr/6410000/busstationservice/getBusStationList?\"+ f\"serviceKey={serviceKey}\" + \"&keyword=전원아파트\""
   ]
  },
  {
   "cell_type": "code",
   "execution_count": 54,
   "id": "b0ec90e9",
   "metadata": {},
   "outputs": [],
   "source": [
    "final_url = service_url + service_name + serviceKey + keyword"
   ]
  },
  {
   "cell_type": "code",
   "execution_count": 55,
   "id": "36ef8080",
   "metadata": {},
   "outputs": [
    {
     "name": "stdout",
     "output_type": "stream",
     "text": [
      "http://apis.data.go.kr/6410000/busrouteservice/getBusRouteList?serviceKey=%2BltohkyQC0eQUMVVaH5qwUi4FxaROssy0kpwzEdkqsFqedo%2FKlvT05Ap0svSUr2xQsOHd9%2FK2pXWpnH5N%2BmTcg%3D%3D&keyword=112\n"
     ]
    }
   ],
   "source": [
    "print(final_url)"
   ]
  },
  {
   "cell_type": "code",
   "execution_count": 56,
   "id": "2375479a",
   "metadata": {},
   "outputs": [],
   "source": [
    "bus_info_xml = requests.get(final_url)"
   ]
  },
  {
   "cell_type": "code",
   "execution_count": null,
   "id": "3864703d",
   "metadata": {},
   "outputs": [],
   "source": [
    "#msgBody -> busRouteList -> egionName(==수원) -> <routeId>200000049</routeId>  <routeName>112</routeName>"
   ]
  },
  {
   "cell_type": "code",
   "execution_count": 59,
   "id": "971c33f5",
   "metadata": {},
   "outputs": [
    {
     "name": "stdout",
     "output_type": "stream",
     "text": [
      "<?xml version=\"1.0\" encoding=\"UTF-8\" standalone=\"yes\"?><response><comMsgHeader/><msgHeader><queryTime>2023-09-23 14:42:01.672</queryTime><resultCode>0</resultCode><resultMessage>정상적으로 처리되었습니다.</resultMessage></msgHeader><msgBody><busRouteList><districtCd>2</districtCd><regionName>수원</regionName><routeId>200000049</routeId><routeName>112</routeName><routeTypeCd>13</routeTypeCd><routeTypeName>일반형시내버스</routeTypeName></busRouteList><busRouteList><districtCd>2</districtCd><regionName>남양주,서울,하남</regionName><routeId>222000045</routeId><routeName>112-1</routeName><routeTypeCd>13</routeTypeCd><routeTypeName>일반형시내버스</routeTypeName></busRouteList><busRouteList><districtCd>2</districtCd><regionName>서울,하남</regionName><routeId>227000005</routeId><routeName>112-5</routeName><routeTypeCd>13</routeTypeCd><routeTypeName>일반형시내버스</routeTypeName></busRouteList></msgBody></response>\n"
     ]
    }
   ],
   "source": [
    "print(bus_info_xml.text)"
   ]
  },
  {
   "cell_type": "code",
   "execution_count": 60,
   "id": "42a25d6f",
   "metadata": {},
   "outputs": [
    {
     "name": "stdout",
     "output_type": "stream",
     "text": [
      "OrderedDict([('response', OrderedDict([('comMsgHeader', None), ('msgHeader', OrderedDict([('queryTime', '2023-09-23 14:42:01.672'), ('resultCode', '0'), ('resultMessage', '정상적으로 처리되었습니다.')])), ('msgBody', OrderedDict([('busRouteList', [OrderedDict([('districtCd', '2'), ('regionName', '수원'), ('routeId', '200000049'), ('routeName', '112'), ('routeTypeCd', '13'), ('routeTypeName', '일반형시내버스')]), OrderedDict([('districtCd', '2'), ('regionName', '남양주,서울,하남'), ('routeId', '222000045'), ('routeName', '112-1'), ('routeTypeCd', '13'), ('routeTypeName', '일반형시내버스')]), OrderedDict([('districtCd', '2'), ('regionName', '서울,하남'), ('routeId', '227000005'), ('routeName', '112-5'), ('routeTypeCd', '13'), ('routeTypeName', '일반형시내버스')])])]))]))])\n"
     ]
    }
   ],
   "source": [
    "#xmlt0dict \n",
    "content = bus_info_xml.content\n",
    "dic = xmltodict.parse(content)\n",
    "print(dic)\n",
    "\n",
    "def xtod(xml_data):\n",
    "    #contents 분리 \n",
    "    content = xml_data.content \n",
    "    #dictionary 볂환 \n",
    "    bus_route_dic = xmltodict.parse(content)\n",
    "    return bus_route_dic\n",
    "\n",
    "    "
   ]
  },
  {
   "cell_type": "code",
   "execution_count": 61,
   "id": "aa272391",
   "metadata": {},
   "outputs": [],
   "source": [
    "jsonString = json.dumps(dic['response']['msgBody']['busRouteList'])\n",
    "json_object = json.loads(jsonString)\n",
    "\n",
    "#json -> 판다스 DF로 변환 \n",
    "\n",
    "df = pd.DataFrame(json_object)\n",
    "\n",
    "\n",
    "def make_df(dic_obj):\n",
    "    jsonString = json.dumps(dic['response']['msgBody']['busRouteList'])\n",
    "    json_object = json.loads(jsonString)\n",
    "    df = pd.DataFrame(json_object)\n",
    "    return df \n"
   ]
  },
  {
   "cell_type": "code",
   "execution_count": 83,
   "id": "7b36a0ba",
   "metadata": {},
   "outputs": [],
   "source": [
    "inSuwon= df['regionName'] == '수원'"
   ]
  },
  {
   "cell_type": "code",
   "execution_count": 95,
   "id": "0cedf575",
   "metadata": {},
   "outputs": [
    {
     "name": "stdout",
     "output_type": "stream",
     "text": [
      "200000049\n"
     ]
    }
   ],
   "source": [
    "route_Id = df[inSuwon]['routeId']\n",
    "print(route_Id[0])"
   ]
  },
  {
   "cell_type": "code",
   "execution_count": 85,
   "id": "0b6a78aa",
   "metadata": {},
   "outputs": [
    {
     "data": {
      "text/html": [
       "<div>\n",
       "<style scoped>\n",
       "    .dataframe tbody tr th:only-of-type {\n",
       "        vertical-align: middle;\n",
       "    }\n",
       "\n",
       "    .dataframe tbody tr th {\n",
       "        vertical-align: top;\n",
       "    }\n",
       "\n",
       "    .dataframe thead th {\n",
       "        text-align: right;\n",
       "    }\n",
       "</style>\n",
       "<table border=\"1\" class=\"dataframe\">\n",
       "  <thead>\n",
       "    <tr style=\"text-align: right;\">\n",
       "      <th></th>\n",
       "      <th>districtCd</th>\n",
       "      <th>regionName</th>\n",
       "      <th>routeId</th>\n",
       "      <th>routeName</th>\n",
       "      <th>routeTypeCd</th>\n",
       "      <th>routeTypeName</th>\n",
       "    </tr>\n",
       "  </thead>\n",
       "  <tbody>\n",
       "    <tr>\n",
       "      <th>0</th>\n",
       "      <td>2</td>\n",
       "      <td>수원</td>\n",
       "      <td>200000049</td>\n",
       "      <td>112</td>\n",
       "      <td>13</td>\n",
       "      <td>일반형시내버스</td>\n",
       "    </tr>\n",
       "    <tr>\n",
       "      <th>1</th>\n",
       "      <td>2</td>\n",
       "      <td>남양주,서울,하남</td>\n",
       "      <td>222000045</td>\n",
       "      <td>112-1</td>\n",
       "      <td>13</td>\n",
       "      <td>일반형시내버스</td>\n",
       "    </tr>\n",
       "    <tr>\n",
       "      <th>2</th>\n",
       "      <td>2</td>\n",
       "      <td>서울,하남</td>\n",
       "      <td>227000005</td>\n",
       "      <td>112-5</td>\n",
       "      <td>13</td>\n",
       "      <td>일반형시내버스</td>\n",
       "    </tr>\n",
       "  </tbody>\n",
       "</table>\n",
       "</div>"
      ],
      "text/plain": [
       "  districtCd regionName    routeId routeName routeTypeCd routeTypeName\n",
       "0          2         수원  200000049       112          13       일반형시내버스\n",
       "1          2  남양주,서울,하남  222000045     112-1          13       일반형시내버스\n",
       "2          2      서울,하남  227000005     112-5          13       일반형시내버스"
      ]
     },
     "execution_count": 85,
     "metadata": {},
     "output_type": "execute_result"
    }
   ],
   "source": [
    "df.loc[:\"regionName\"]"
   ]
  },
  {
   "cell_type": "code",
   "execution_count": null,
   "id": "369b8c0f",
   "metadata": {},
   "outputs": [],
   "source": []
  }
 ],
 "metadata": {
  "kernelspec": {
   "display_name": "Python 3 (ipykernel)",
   "language": "python",
   "name": "python3"
  },
  "language_info": {
   "codemirror_mode": {
    "name": "ipython",
    "version": 3
   },
   "file_extension": ".py",
   "mimetype": "text/x-python",
   "name": "python",
   "nbconvert_exporter": "python",
   "pygments_lexer": "ipython3",
   "version": "3.10.12"
  }
 },
 "nbformat": 4,
 "nbformat_minor": 5
}
