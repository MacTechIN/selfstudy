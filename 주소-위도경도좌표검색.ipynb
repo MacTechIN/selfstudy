{
 "cells": [
  {
   "cell_type": "code",
   "execution_count": 17,
   "id": "a6ca283c",
   "metadata": {},
   "outputs": [
    {
     "name": "stdout",
     "output_type": "stream",
     "text": [
      "127.015837637221 37.2573103483066\n"
     ]
    }
   ],
   "source": [
    "import requests, json\n",
    "import pandas as pd\n",
    "import time\n",
    "\n",
    "\n",
    "key = \"KakaoAK b958bdf89a2ea48dc1e8c2792f0483f7\"\n",
    "myAdd = \"경기도 수원시 권선구 세권로108번길 10\"\n",
    "\n",
    "def get_location(address):\n",
    "    url = 'https://dapi.kakao.com/v2/local/search/address.json?query=' + address\n",
    "    headers = {\"Authorization\": key }\n",
    "    api_json = json.loads(str(requests.get(url, headers=headers).text))\n",
    "    return api_json\n",
    "\n",
    "\n",
    "res_json = get_location(myAdd)\n",
    "\n",
    "x = res_json['documents'][0]['x']\n",
    "y = res_json['documents'][0]['y']\n",
    "\n",
    "print(x,y)"
   ]
  },
  {
   "cell_type": "code",
   "execution_count": null,
   "id": "55ab916b",
   "metadata": {},
   "outputs": [],
   "source": [
    "\n",
    "\n"
   ]
  }
 ],
 "metadata": {
  "kernelspec": {
   "display_name": "Python 3 (ipykernel)",
   "language": "python",
   "name": "python3"
  },
  "language_info": {
   "codemirror_mode": {
    "name": "ipython",
    "version": 3
   },
   "file_extension": ".py",
   "mimetype": "text/x-python",
   "name": "python",
   "nbconvert_exporter": "python",
   "pygments_lexer": "ipython3",
   "version": "3.10.12"
  }
 },
 "nbformat": 4,
 "nbformat_minor": 5
}
