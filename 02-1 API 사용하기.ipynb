{
 "cells": [
  {
   "cell_type": "code",
   "execution_count": 7,
   "id": "c20fa565",
   "metadata": {},
   "outputs": [],
   "source": [
    "d = {\"name\": \"혼자 공부하는 데이터 분석\"}"
   ]
  },
  {
   "cell_type": "code",
   "execution_count": 8,
   "id": "938fbdd6",
   "metadata": {},
   "outputs": [
    {
     "name": "stdout",
     "output_type": "stream",
     "text": [
      "혼자 공부하는 데이터 분석\n"
     ]
    }
   ],
   "source": [
    "print(d['name'])"
   ]
  },
  {
   "cell_type": "code",
   "execution_count": 9,
   "id": "4a79d67c",
   "metadata": {},
   "outputs": [],
   "source": [
    "import json"
   ]
  },
  {
   "cell_type": "code",
   "execution_count": 10,
   "id": "e3e28cc3",
   "metadata": {},
   "outputs": [],
   "source": [
    "d_str = json.dumps(d, ensure_ascii=False)"
   ]
  },
  {
   "cell_type": "code",
   "execution_count": 11,
   "id": "7c8ea50a",
   "metadata": {},
   "outputs": [
    {
     "name": "stdout",
     "output_type": "stream",
     "text": [
      "{\"name\": \"혼자 공부하는 데이터 분석\"}\n"
     ]
    }
   ],
   "source": [
    "print(d_str)"
   ]
  },
  {
   "cell_type": "code",
   "execution_count": 14,
   "id": "f9d5a867",
   "metadata": {},
   "outputs": [
    {
     "name": "stdout",
     "output_type": "stream",
     "text": [
      "<class 'str'>\n"
     ]
    }
   ],
   "source": [
    "print(type(d_str))"
   ]
  },
  {
   "cell_type": "code",
   "execution_count": 20,
   "id": "74668be5",
   "metadata": {},
   "outputs": [
    {
     "ename": "TypeError",
     "evalue": "string indices must be integers",
     "output_type": "error",
     "traceback": [
      "\u001b[0;31m---------------------------------------------------------------------------\u001b[0m",
      "\u001b[0;31mTypeError\u001b[0m                                 Traceback (most recent call last)",
      "Cell \u001b[0;32mIn[20], line 1\u001b[0m\n\u001b[0;32m----> 1\u001b[0m \u001b[43md_str\u001b[49m\u001b[43m[\u001b[49m\u001b[38;5;124;43m'\u001b[39;49m\u001b[38;5;124;43mname\u001b[39;49m\u001b[38;5;124;43m'\u001b[39;49m\u001b[43m]\u001b[49m\n",
      "\u001b[0;31mTypeError\u001b[0m: string indices must be integers"
     ]
    }
   ],
   "source": [
    "d_str['name']"
   ]
  },
  {
   "cell_type": "code",
   "execution_count": 16,
   "id": "da45e18b",
   "metadata": {},
   "outputs": [],
   "source": [
    "d2 = json.loads(d_str)"
   ]
  },
  {
   "cell_type": "code",
   "execution_count": 17,
   "id": "c504d1f1",
   "metadata": {},
   "outputs": [
    {
     "name": "stdout",
     "output_type": "stream",
     "text": [
      "{'name': '혼자 공부하는 데이터 분석'}\n"
     ]
    }
   ],
   "source": [
    "print(d2)"
   ]
  },
  {
   "cell_type": "code",
   "execution_count": 18,
   "id": "4c2fadc7",
   "metadata": {},
   "outputs": [
    {
     "data": {
      "text/plain": [
       "dict"
      ]
     },
     "execution_count": 18,
     "metadata": {},
     "output_type": "execute_result"
    }
   ],
   "source": [
    "type(d2)"
   ]
  },
  {
   "cell_type": "code",
   "execution_count": 19,
   "id": "59fbf652",
   "metadata": {},
   "outputs": [
    {
     "data": {
      "text/plain": [
       "'혼자 공부하는 데이터 분석'"
      ]
     },
     "execution_count": 19,
     "metadata": {},
     "output_type": "execute_result"
    }
   ],
   "source": [
    "d2['name']"
   ]
  },
  {
   "cell_type": "code",
   "execution_count": 21,
   "id": "ebd5fe42",
   "metadata": {},
   "outputs": [],
   "source": [
    "d3 = json.loads('{\"name\": \"혼자하는 공부\",\"author\": \"박해선\",\"year\": 2022}')"
   ]
  },
  {
   "cell_type": "code",
   "execution_count": 22,
   "id": "5176d986",
   "metadata": {},
   "outputs": [
    {
     "name": "stdout",
     "output_type": "stream",
     "text": [
      "{'name': '혼자하는 공부', 'author': '박해선', 'year': 2022}\n"
     ]
    }
   ],
   "source": [
    "print(d3)"
   ]
  },
  {
   "cell_type": "code",
   "execution_count": 23,
   "id": "74e86468",
   "metadata": {},
   "outputs": [
    {
     "name": "stdout",
     "output_type": "stream",
     "text": [
      "혼자하는 공부\n",
      "박해선\n",
      "2022\n"
     ]
    }
   ],
   "source": [
    "print(d3[\"name\"])\n",
    "print(d3[\"author\"])\n",
    "print(d3[\"year\"])"
   ]
  },
  {
   "cell_type": "code",
   "execution_count": 24,
   "id": "097834cc",
   "metadata": {},
   "outputs": [],
   "source": [
    "d3 = json.loads('{\"name\": \"혼자하는 공부\",\"author\": [\"박해선\",\"홍길동\"],\"year\": 2022}')"
   ]
  },
  {
   "cell_type": "code",
   "execution_count": 25,
   "id": "d68feea0",
   "metadata": {},
   "outputs": [
    {
     "name": "stdout",
     "output_type": "stream",
     "text": [
      "['박해선', '홍길동']\n"
     ]
    }
   ],
   "source": [
    "print(d3[\"author\"])"
   ]
  },
  {
   "cell_type": "code",
   "execution_count": 26,
   "id": "de3bcb93",
   "metadata": {},
   "outputs": [
    {
     "name": "stdout",
     "output_type": "stream",
     "text": [
      "홍길동\n"
     ]
    }
   ],
   "source": [
    "print(d3[\"author\"][1])"
   ]
  },
  {
   "cell_type": "code",
   "execution_count": 28,
   "id": "0721cd9b",
   "metadata": {},
   "outputs": [],
   "source": [
    "d4_str = \"\"\"\n",
    "[ \n",
    "{\"name\" : \"혼자하는 공부1\", \"author\":\"박해선\", \"year\":2022},\n",
    "{\"name\" : \"혼자하는 공부2\", \"author\":\"박해선2\", \"year\":2023}\n",
    "]\n",
    "\"\"\""
   ]
  },
  {
   "cell_type": "code",
   "execution_count": 29,
   "id": "df33b291",
   "metadata": {},
   "outputs": [],
   "source": [
    "d4 = json.loads(d4_str)"
   ]
  },
  {
   "cell_type": "code",
   "execution_count": 31,
   "id": "103731a9",
   "metadata": {},
   "outputs": [
    {
     "name": "stdout",
     "output_type": "stream",
     "text": [
      "혼자하는 공부1\n"
     ]
    }
   ],
   "source": [
    "print(d4[0][\"name\"])"
   ]
  },
  {
   "cell_type": "code",
   "execution_count": 32,
   "id": "3afd9f73",
   "metadata": {},
   "outputs": [],
   "source": [
    "import pandas as pd"
   ]
  },
  {
   "cell_type": "code",
   "execution_count": 33,
   "id": "c5e20149",
   "metadata": {},
   "outputs": [
    {
     "data": {
      "text/html": [
       "<div>\n",
       "<style scoped>\n",
       "    .dataframe tbody tr th:only-of-type {\n",
       "        vertical-align: middle;\n",
       "    }\n",
       "\n",
       "    .dataframe tbody tr th {\n",
       "        vertical-align: top;\n",
       "    }\n",
       "\n",
       "    .dataframe thead th {\n",
       "        text-align: right;\n",
       "    }\n",
       "</style>\n",
       "<table border=\"1\" class=\"dataframe\">\n",
       "  <thead>\n",
       "    <tr style=\"text-align: right;\">\n",
       "      <th></th>\n",
       "      <th>name</th>\n",
       "      <th>author</th>\n",
       "      <th>year</th>\n",
       "    </tr>\n",
       "  </thead>\n",
       "  <tbody>\n",
       "    <tr>\n",
       "      <th>0</th>\n",
       "      <td>혼자하는 공부1</td>\n",
       "      <td>박해선</td>\n",
       "      <td>2022</td>\n",
       "    </tr>\n",
       "    <tr>\n",
       "      <th>1</th>\n",
       "      <td>혼자하는 공부2</td>\n",
       "      <td>박해선2</td>\n",
       "      <td>2023</td>\n",
       "    </tr>\n",
       "  </tbody>\n",
       "</table>\n",
       "</div>"
      ],
      "text/plain": [
       "       name author  year\n",
       "0  혼자하는 공부1    박해선  2022\n",
       "1  혼자하는 공부2   박해선2  2023"
      ]
     },
     "execution_count": 33,
     "metadata": {},
     "output_type": "execute_result"
    }
   ],
   "source": [
    "pd.read_json(d4_str)"
   ]
  },
  {
   "cell_type": "code",
   "execution_count": 35,
   "id": "6db8fdde",
   "metadata": {},
   "outputs": [
    {
     "data": {
      "text/html": [
       "<div>\n",
       "<style scoped>\n",
       "    .dataframe tbody tr th:only-of-type {\n",
       "        vertical-align: middle;\n",
       "    }\n",
       "\n",
       "    .dataframe tbody tr th {\n",
       "        vertical-align: top;\n",
       "    }\n",
       "\n",
       "    .dataframe thead th {\n",
       "        text-align: right;\n",
       "    }\n",
       "</style>\n",
       "<table border=\"1\" class=\"dataframe\">\n",
       "  <thead>\n",
       "    <tr style=\"text-align: right;\">\n",
       "      <th></th>\n",
       "      <th>name</th>\n",
       "      <th>author</th>\n",
       "      <th>year</th>\n",
       "    </tr>\n",
       "  </thead>\n",
       "  <tbody>\n",
       "    <tr>\n",
       "      <th>0</th>\n",
       "      <td>혼자하는 공부1</td>\n",
       "      <td>박해선</td>\n",
       "      <td>2022</td>\n",
       "    </tr>\n",
       "    <tr>\n",
       "      <th>1</th>\n",
       "      <td>혼자하는 공부2</td>\n",
       "      <td>박해선2</td>\n",
       "      <td>2023</td>\n",
       "    </tr>\n",
       "  </tbody>\n",
       "</table>\n",
       "</div>"
      ],
      "text/plain": [
       "       name author  year\n",
       "0  혼자하는 공부1    박해선  2022\n",
       "1  혼자하는 공부2   박해선2  2023"
      ]
     },
     "execution_count": 35,
     "metadata": {},
     "output_type": "execute_result"
    }
   ],
   "source": [
    "pd.DataFrame(d4)"
   ]
  },
  {
   "cell_type": "code",
   "execution_count": 36,
   "id": "9fcab2fc",
   "metadata": {},
   "outputs": [],
   "source": [
    "x_str = \"\"\"\n",
    "<book>\n",
    "    <name> 혼자하는 공부 데이터 분석</name>\n",
    "    <author> 박해선 </author>\n",
    "    <year> 2022 </year>\n",
    "</book>\n",
    "\"\"\""
   ]
  },
  {
   "cell_type": "code",
   "execution_count": 38,
   "id": "3f67299a",
   "metadata": {},
   "outputs": [],
   "source": [
    "import xml.etree.ElementTree as et\n",
    "book = et.fromstring(x_str)"
   ]
  },
  {
   "cell_type": "code",
   "execution_count": null,
   "id": "4d669314",
   "metadata": {},
   "outputs": [],
   "source": []
  },
  {
   "cell_type": "code",
   "execution_count": 39,
   "id": "96d5ed02",
   "metadata": {},
   "outputs": [
    {
     "name": "stdout",
     "output_type": "stream",
     "text": [
      "<class 'xml.etree.ElementTree.Element'>\n"
     ]
    }
   ],
   "source": [
    "print(type(book))"
   ]
  },
  {
   "cell_type": "code",
   "execution_count": 40,
   "id": "d8144661",
   "metadata": {},
   "outputs": [
    {
     "name": "stdout",
     "output_type": "stream",
     "text": [
      "book\n"
     ]
    }
   ],
   "source": [
    "print(book.tag)"
   ]
  },
  {
   "cell_type": "code",
   "execution_count": 41,
   "id": "a4eff115",
   "metadata": {},
   "outputs": [],
   "source": [
    "book_childs = list(book)"
   ]
  },
  {
   "cell_type": "code",
   "execution_count": 42,
   "id": "01eed2a1",
   "metadata": {},
   "outputs": [
    {
     "name": "stdout",
     "output_type": "stream",
     "text": [
      "[<Element 'name' at 0x1386e49a0>, <Element 'author' at 0x1386e4a40>, <Element 'year' at 0x1386e4a90>]\n"
     ]
    }
   ],
   "source": [
    "print(book_childs)"
   ]
  },
  {
   "cell_type": "code",
   "execution_count": 43,
   "id": "3ff25569",
   "metadata": {},
   "outputs": [],
   "source": [
    "name,author,year = book_childs"
   ]
  },
  {
   "cell_type": "code",
   "execution_count": 44,
   "id": "39d872c4",
   "metadata": {},
   "outputs": [
    {
     "data": {
      "text/plain": [
       "' 혼자하는 공부 데이터 분석'"
      ]
     },
     "execution_count": 44,
     "metadata": {},
     "output_type": "execute_result"
    }
   ],
   "source": [
    "name.text"
   ]
  },
  {
   "cell_type": "code",
   "execution_count": 45,
   "id": "41f0c611",
   "metadata": {},
   "outputs": [
    {
     "data": {
      "text/plain": [
       "' 박해선 '"
      ]
     },
     "execution_count": 45,
     "metadata": {},
     "output_type": "execute_result"
    }
   ],
   "source": [
    "author.text"
   ]
  },
  {
   "cell_type": "code",
   "execution_count": 46,
   "id": "33556564",
   "metadata": {},
   "outputs": [
    {
     "data": {
      "text/plain": [
       "' 2022 '"
      ]
     },
     "execution_count": 46,
     "metadata": {},
     "output_type": "execute_result"
    }
   ],
   "source": [
    "year.text"
   ]
  },
  {
   "cell_type": "code",
   "execution_count": 47,
   "id": "5d14aba0",
   "metadata": {},
   "outputs": [],
   "source": [
    "name = book.findtext('name')"
   ]
  },
  {
   "cell_type": "code",
   "execution_count": 48,
   "id": "6fb64966",
   "metadata": {},
   "outputs": [
    {
     "name": "stdout",
     "output_type": "stream",
     "text": [
      " 혼자하는 공부 데이터 분석\n"
     ]
    }
   ],
   "source": [
    "print(name)"
   ]
  },
  {
   "cell_type": "code",
   "execution_count": 50,
   "id": "26eaf666",
   "metadata": {},
   "outputs": [],
   "source": [
    "x_str2 = \"\"\"\n",
    "<books>\n",
    "    <book>\n",
    "        <name> 혼자하는 공부 데이터 분석</name>\n",
    "        <author> 박해선 </author>\n",
    "        <year> 2022 </year>\n",
    "    </book>\n",
    "    <book>\n",
    "        <name> 혼자하는 공부 데이터 분석2</name>\n",
    "        <author> 박해선2 </author>\n",
    "        <year> 2023 </year>\n",
    "    </book>\n",
    "\n",
    "</books>\n",
    "\"\"\""
   ]
  },
  {
   "cell_type": "code",
   "execution_count": 51,
   "id": "61fbfd04",
   "metadata": {},
   "outputs": [],
   "source": [
    "books = et.fromstring(x_str2)"
   ]
  },
  {
   "cell_type": "code",
   "execution_count": 52,
   "id": "d560fec0",
   "metadata": {},
   "outputs": [
    {
     "name": "stdout",
     "output_type": "stream",
     "text": [
      "books\n"
     ]
    }
   ],
   "source": [
    "print(books.tag)"
   ]
  },
  {
   "cell_type": "code",
   "execution_count": 53,
   "id": "f6264775",
   "metadata": {},
   "outputs": [
    {
     "name": "stdout",
     "output_type": "stream",
     "text": [
      " 혼자하는 공부 데이터 분석\n",
      " 박해선 \n",
      " 2022 \n",
      "\n",
      " 혼자하는 공부 데이터 분석2\n",
      " 박해선2 \n",
      " 2023 \n",
      "\n"
     ]
    }
   ],
   "source": [
    "for book in books.findall('book'):\n",
    "    name = book.findtext(\"name\")\n",
    "    author = book.findtext(\"author\")\n",
    "    year = book.findtext(\"year\")\n",
    "    print(name)\n",
    "    print(author)\n",
    "    print(year)\n",
    "    print()"
   ]
  },
  {
   "cell_type": "code",
   "execution_count": null,
   "id": "eda7012a",
   "metadata": {},
   "outputs": [],
   "source": []
  },
  {
   "cell_type": "code",
   "execution_count": 54,
   "id": "23bfbd80",
   "metadata": {},
   "outputs": [],
   "source": [
    "import xml.etree.ElementTree as et"
   ]
  },
  {
   "cell_type": "code",
   "execution_count": 55,
   "id": "b917dad7",
   "metadata": {},
   "outputs": [],
   "source": [
    "station_xml = \"\"\"\n",
    "<msgBody>\n",
    "    <busStationList>\n",
    "        <centerYn>N</centerYn>\n",
    "        <districtCd>1</districtCd>\n",
    "        <mobileNo> 22260</mobileNo>\n",
    "        <regionName>서울</regionName>\n",
    "        <stationId>121000184</stationId>\n",
    "        <stationName>성뒤마을.교육연수원</stationName>\n",
    "        <x>126.9970667</x>\n",
    "        <y>37.4733833</y>\n",
    "    </busStationList>\n",
    "</msgBody>\n",
    "\"\"\"\n"
   ]
  },
  {
   "cell_type": "code",
   "execution_count": 59,
   "id": "e723336d",
   "metadata": {},
   "outputs": [],
   "source": [
    "bus_stations = et.fromstring(station_xml)"
   ]
  },
  {
   "cell_type": "code",
   "execution_count": 62,
   "id": "82eb4a90",
   "metadata": {},
   "outputs": [
    {
     "name": "stdout",
     "output_type": "stream",
     "text": [
      "msgBody\n"
     ]
    }
   ],
   "source": [
    "print(bus_stations.tag)"
   ]
  },
  {
   "cell_type": "code",
   "execution_count": 64,
   "id": "322f5a7c",
   "metadata": {},
   "outputs": [
    {
     "name": "stdout",
     "output_type": "stream",
     "text": [
      "{'stationId': '121000184', 'stationName': '성뒤마을.교육연수원'}\n"
     ]
    }
   ],
   "source": [
    "for station in bus_stations.findall(\"busStationList\"):\n",
    "    mobileNo = station.findtext(\"mobileNo\")\n",
    "    stationId = station.findtext(\"stationId\")\n",
    "    stationName = station.findtext(\"stationName\")\n",
    "    station_data = {\"stationId\" : stationId,\"stationName\": stationName }\n",
    "    \n",
    "print(station_data)"
   ]
  },
  {
   "cell_type": "code",
   "execution_count": 65,
   "id": "a0f406f7",
   "metadata": {},
   "outputs": [],
   "source": []
  },
  {
   "cell_type": "code",
   "execution_count": null,
   "id": "eebf0195",
   "metadata": {},
   "outputs": [],
   "source": []
  },
  {
   "cell_type": "code",
   "execution_count": null,
   "id": "3246bf86",
   "metadata": {},
   "outputs": [],
   "source": []
  },
  {
   "cell_type": "code",
   "execution_count": null,
   "id": "6c34a83b",
   "metadata": {},
   "outputs": [],
   "source": []
  },
  {
   "cell_type": "code",
   "execution_count": null,
   "id": "4eeaf186",
   "metadata": {},
   "outputs": [],
   "source": []
  },
  {
   "cell_type": "code",
   "execution_count": null,
   "id": "b5b52aef",
   "metadata": {},
   "outputs": [],
   "source": []
  },
  {
   "cell_type": "code",
   "execution_count": null,
   "id": "536373b0",
   "metadata": {},
   "outputs": [],
   "source": []
  },
  {
   "cell_type": "code",
   "execution_count": null,
   "id": "41df405f",
   "metadata": {},
   "outputs": [],
   "source": []
  },
  {
   "cell_type": "code",
   "execution_count": null,
   "id": "e9f52216",
   "metadata": {},
   "outputs": [],
   "source": []
  },
  {
   "cell_type": "code",
   "execution_count": null,
   "id": "0d81d49a",
   "metadata": {},
   "outputs": [],
   "source": []
  },
  {
   "cell_type": "code",
   "execution_count": null,
   "id": "a89701d0",
   "metadata": {},
   "outputs": [],
   "source": []
  },
  {
   "cell_type": "code",
   "execution_count": null,
   "id": "d03f4a75",
   "metadata": {},
   "outputs": [],
   "source": []
  },
  {
   "cell_type": "code",
   "execution_count": null,
   "id": "8478d6a6",
   "metadata": {},
   "outputs": [],
   "source": []
  },
  {
   "cell_type": "code",
   "execution_count": null,
   "id": "8fd6b984",
   "metadata": {},
   "outputs": [],
   "source": []
  }
 ],
 "metadata": {
  "kernelspec": {
   "display_name": "Python 3 (ipykernel)",
   "language": "python",
   "name": "python3"
  },
  "language_info": {
   "codemirror_mode": {
    "name": "ipython",
    "version": 3
   },
   "file_extension": ".py",
   "mimetype": "text/x-python",
   "name": "python",
   "nbconvert_exporter": "python",
   "pygments_lexer": "ipython3",
   "version": "3.10.12"
  }
 },
 "nbformat": 4,
 "nbformat_minor": 5
}
