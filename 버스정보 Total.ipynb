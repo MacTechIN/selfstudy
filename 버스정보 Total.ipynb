{
 "cells": [
  {
   "cell_type": "code",
   "execution_count": null,
   "id": "290f0640",
   "metadata": {},
   "outputs": [],
   "source": []
  },
  {
   "cell_type": "code",
   "execution_count": null,
   "id": "09d7f7ec",
   "metadata": {},
   "outputs": [],
   "source": [
    "\"\"\"\n",
    "경기도 기준으로 내가 원하는 버스의 도착 정보얻기 \n",
    "\n",
    "1.버스노선 조회 서비스 \n",
    "2.정류소 조회 서비스\n",
    "3.버스 도착 정보 조회 서비스\n",
    "\n",
    "stationId:정류장 아이디\n",
    "stationName:정류장 이름\n",
    "routeId:노선 아이디\n",
    "routeName:노선 번호 \n",
    "\n",
    "predictTime1:가장 빨리 오는 그 노선 번호의 버스\n",
    "predictTime2:두번 째로 빨리 오는 그 노선 번호의 버스\n",
    "\n",
    "\n",
    "Created on Fri Sep 22 20:03:40 2023\n",
    "\n",
    "112 번 노선id = 200000049\n",
    "\n",
    "@author: find bus mini project team (sam & junhee)\n",
    "\"\"\""
   ]
  },
  {
   "cell_type": "code",
   "execution_count": 35,
   "id": "982538b5",
   "metadata": {},
   "outputs": [],
   "source": [
    "import pandas as pd\n",
    "import requests \n",
    "from bs4 import BeautifulSoup \n",
    "import xmltodict \n",
    "import json\n",
    "import xml.etree.ElementTree as et \n",
    "\n",
    "serviceKey = \"%2BltohkyQC0eQUMVVaH5qwUi4FxaROssy0kpwzEdkqsFqedo%2FKlvT05Ap0svSUr2xQsOHd9%2FK2pXWpnH5N%2BmTcg%3D%3D\"\n",
    "\n"
   ]
  },
  {
   "cell_type": "code",
   "execution_count": null,
   "id": "144158d1",
   "metadata": {},
   "outputs": [],
   "source": [
    "#경기도 정류소 조회 \n",
    "# getBusStationList, getBusStationAroundList, getBusStationViaRouteList\n",
    "# 접속예제 : http://apis.data.go.kr/6410000/busstationservice/getBusStationList?serviceKey=인증키(URLEncode)&keyword=12\n",
    "\n",
    "station_search_url = \"http://apis.data.go.kr/6410000/busstationservice/getBusStationList?\"+ f\"serviceKey={serviceKey}\" + \"&keyword=수원\"\n",
    "\n",
    "print(station_search_url)"
   ]
  },
  {
   "cell_type": "code",
   "execution_count": null,
   "id": "3ad9e9a4",
   "metadata": {},
   "outputs": [],
   "source": []
  },
  {
   "cell_type": "code",
   "execution_count": null,
   "id": "6bc64dec",
   "metadata": {},
   "outputs": [],
   "source": [
    "#경기도버스 도착 정보 목록 조회 URL \n",
    "url2 = \"http://apis.data.go.kr/6410000/busarrivalservice\"\n",
    "req  = \"getBusArrivalList\"\n",
    "station_id =\"02199\" \n",
    "serviceKey = \"%2BltohkyQC0eQUMVVaH5qwUi4FxaROssy0kpwzEdkqsFqedo%2FKlvT05Ap0svSUr2xQsOHd9%2FK2pXWpnH5N%2BmTcg%3D%3D\"\n",
    "finalURL= f\"http://apis.data.go.kr/6410000/busarrivalservice/getBusArrivalList?\"+ f\"serviceKey={serviceKey}\"+f\"&stationId={station_id}\" \n",
    "\n",
    "print(finalURL)"
   ]
  },
  {
   "cell_type": "code",
   "execution_count": 36,
   "id": "a5844ddc",
   "metadata": {},
   "outputs": [
    {
     "name": "stdout",
     "output_type": "stream",
     "text": [
      "http://apis.data.go.kr/6410000/busstationservice/getBusStationList?serviceKey=%2BltohkyQC0eQUMVVaH5qwUi4FxaROssy0kpwzEdkqsFqedo%2FKlvT05Ap0svSUr2xQsOHd9%2FK2pXWpnH5N%2BmTcg%3D%3D&keyword=수원\n"
     ]
    }
   ],
   "source": []
  },
  {
   "cell_type": "code",
   "execution_count": null,
   "id": "f539a404",
   "metadata": {},
   "outputs": [],
   "source": [
    "#경기도 버스 위치정보 조회 \n",
    "http://openapi.gbis.go.kr/ws/rest/buslocationservice\n",
    "\n",
    "#serviceKey :String(필수) - 발급받은 키값\n",
    "#routeId : String(필수) - 노선아이디\n",
    "\n",
    "\n",
    "\n",
    "    "
   ]
  },
  {
   "cell_type": "code",
   "execution_count": null,
   "id": "13dd7c4d",
   "metadata": {},
   "outputs": [],
   "source": []
  },
  {
   "cell_type": "code",
   "execution_count": null,
   "id": "33a77ce9",
   "metadata": {},
   "outputs": [],
   "source": []
  },
  {
   "cell_type": "code",
   "execution_count": null,
   "id": "8eef7089",
   "metadata": {},
   "outputs": [],
   "source": []
  },
  {
   "cell_type": "code",
   "execution_count": null,
   "id": "9bcacbea",
   "metadata": {},
   "outputs": [],
   "source": []
  },
  {
   "cell_type": "code",
   "execution_count": null,
   "id": "e4ccfd05",
   "metadata": {},
   "outputs": [],
   "source": []
  },
  {
   "cell_type": "code",
   "execution_count": 39,
   "id": "bef651ae",
   "metadata": {},
   "outputs": [
    {
     "name": "stdout",
     "output_type": "stream",
     "text": [
      "bus_station_search_result :  <class 'requests.models.Response'>\n",
      "<class 'str'>\n"
     ]
    }
   ],
   "source": [
    "#사이트 서비스 접속 요청 예제 \n",
    "#버스 정류소 조회 \n",
    "bus_station_search_result = requests.get(station_search_url)\n",
    "print(\"bus_station_search_result : \",type(bus_station_search_result))\n",
    "ㅇ\n",
    "bus_station_content = bus_station_search_result.text\n",
    "print(type(bus_station_content))"
   ]
  },
  {
   "cell_type": "code",
   "execution_count": 41,
   "id": "0eb684f0",
   "metadata": {},
   "outputs": [],
   "source": [
    "json_str = json.dumps(xmltodict.parse(bus_station_content))"
   ]
  },
  {
   "cell_type": "code",
   "execution_count": 45,
   "id": "c073b61c",
   "metadata": {},
   "outputs": [
    {
     "name": "stdout",
     "output_type": "stream",
     "text": [
      "\"\n"
     ]
    }
   ],
   "source": [
    "print(json_str[1])"
   ]
  },
  {
   "cell_type": "code",
   "execution_count": 33,
   "id": "46cbaba9",
   "metadata": {},
   "outputs": [
    {
     "data": {
      "text/plain": [
       "[]"
      ]
     },
     "execution_count": 33,
     "metadata": {},
     "output_type": "execute_result"
    }
   ],
   "source": []
  },
  {
   "cell_type": "code",
   "execution_count": null,
   "id": "5f4e3206",
   "metadata": {},
   "outputs": [],
   "source": []
  },
  {
   "cell_type": "code",
   "execution_count": null,
   "id": "56399232",
   "metadata": {},
   "outputs": [],
   "source": []
  },
  {
   "cell_type": "code",
   "execution_count": null,
   "id": "b874190f",
   "metadata": {},
   "outputs": [],
   "source": []
  }
 ],
 "metadata": {
  "kernelspec": {
   "display_name": "Python 3 (ipykernel)",
   "language": "python",
   "name": "python3"
  },
  "language_info": {
   "codemirror_mode": {
    "name": "ipython",
    "version": 3
   },
   "file_extension": ".py",
   "mimetype": "text/x-python",
   "name": "python",
   "nbconvert_exporter": "python",
   "pygments_lexer": "ipython3",
   "version": "3.10.12"
  }
 },
 "nbformat": 4,
 "nbformat_minor": 5
}
